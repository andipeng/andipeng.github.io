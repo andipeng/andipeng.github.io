{
 "cells": [
  {
   "cell_type": "code",
   "execution_count": 8,
   "metadata": {
    "collapsed": false
   },
   "outputs": [],
   "source": [
    "import pickle\n",
    "import pandas\n",
    "import csv"
   ]
  },
  {
   "cell_type": "code",
   "execution_count": 2,
   "metadata": {
    "collapsed": false
   },
   "outputs": [],
   "source": [
    "datatest = open(\"BIOS.pkl\",\"rb\")\n",
    "data = pickle.load(datatest)"
   ]
  },
  {
   "cell_type": "code",
   "execution_count": 38,
   "metadata": {
    "collapsed": false
   },
   "outputs": [
    {
     "name": "stdout",
     "output_type": "stream",
     "text": [
      "_ leadership at Paul Mitchell Systems led to record sales of Paul Mitchell systems in the New York, New Jersey and Pennsylvania. Following _ success as a director of marketing, _ went on to found Corporate Measures Consulting, a leadership development firm in 1989. In addition, _ is a public speaker advocating the preservation of citizens’ rights and is making the rounds educating the public on the role and impact of government regulations. _ main focus is Sustainability and Agenda 21 and the effects such policies have on individual, business and community rights. These government programs that are being adopted by cities and towns across the state and nation affect Democrats, Republicans and Independents alike.\n"
     ]
    }
   ],
   "source": [
    "profs = list(filter(lambda person: person[\"title\"] == \"teacher\", data))\n",
    "print(profs[6][\"bio\"])"
   ]
  },
  {
   "cell_type": "code",
   "execution_count": 26,
   "metadata": {
    "collapsed": false
   },
   "outputs": [],
   "source": [
    "with open('teacher.csv', 'w') as myfile:\n",
    "    wr = csv.writer(myfile, quoting=csv.QUOTE_ALL)\n",
    "    wr.writerow(profs)"
   ]
  },
  {
   "cell_type": "code",
   "execution_count": null,
   "metadata": {
    "collapsed": true
   },
   "outputs": [],
   "source": []
  }
 ],
 "metadata": {
  "kernelspec": {
   "display_name": "Python 3",
   "language": "python",
   "name": "python3"
  },
  "language_info": {
   "codemirror_mode": {
    "name": "ipython",
    "version": 3
   },
   "file_extension": ".py",
   "mimetype": "text/x-python",
   "name": "python",
   "nbconvert_exporter": "python",
   "pygments_lexer": "ipython3",
   "version": "3.5.4"
  }
 },
 "nbformat": 4,
 "nbformat_minor": 0
}
